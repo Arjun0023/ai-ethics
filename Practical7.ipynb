{
  "nbformat": 4,
  "nbformat_minor": 0,
  "metadata": {
    "colab": {
      "provenance": []
    },
    "kernelspec": {
      "name": "python3",
      "display_name": "Python 3"
    },
    "language_info": {
      "name": "python"
    }
  },
  "cells": [
    {
      "cell_type": "code",
      "execution_count": null,
      "metadata": {
        "id": "BvJHjWKBhUIZ"
      },
      "outputs": [],
      "source": [
        "#Practical 7:- Anomaly Detection in AI System Logs\n",
        "\n",
        "import pandas as pd\n",
        "\n",
        "def detect_anomalies(logs, threshold):\n",
        "  anomalies = logs[logs['error_rate'] > threshold]\n",
        "  return anomalies\n",
        "\n",
        "#Example usage\n",
        "if __name__ == \"__main__\":\n",
        "  # Load logs from a CSV file (replace the file name with your dataset)\n",
        "  logs = pd.read_csv('/content/sample_logs_1.csv')\n",
        "\n",
        "#Display the first few reows of the dataset to understand its structure\n",
        "print(logs.head())\n",
        "\n",
        "#specify the threshold\n",
        "threshold = 0.19 # Adjust this based on the dataset's context\n",
        "anomalies = detect_anomalies(logs, threshold)\n",
        "\n",
        "print(\"Anomalies detected:\")\n",
        "print(anomalies)"
      ]
    }
  ]
}