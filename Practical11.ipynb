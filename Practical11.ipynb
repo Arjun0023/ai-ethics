{
  "nbformat": 4,
  "nbformat_minor": 0,
  "metadata": {
    "colab": {
      "provenance": []
    },
    "kernelspec": {
      "name": "python3",
      "display_name": "Python 3"
    },
    "language_info": {
      "name": "python"
    }
  },
  "cells": [
    {
      "cell_type": "code",
      "execution_count": 1,
      "metadata": {
        "colab": {
          "base_uri": "https://localhost:8080/"
        },
        "id": "Q-0M91tGq5o2",
        "outputId": "9d1bc2a0-5cfa-427d-fa68-0dfd333c1bde"
      },
      "outputs": [
        {
          "output_type": "stream",
          "name": "stdout",
          "text": [
            "Gender Distribution:\n",
            "Gender\n",
            "Male      501\n",
            "Female    499\n",
            "Name: count, dtype: int64\n",
            "\n",
            "Percentage of Males: 50.10%\n",
            "Percentage of Females: 49.90%\n",
            "\n",
            "The gender distribution is balanced.\n"
          ]
        }
      ],
      "source": [
        "#Practical 11 :- Bias Detection in Data.\n",
        "import pandas as pd\n",
        "import random\n",
        "\n",
        "# Function to generate dataset\n",
        "def generate_dataset(num_records=1000):\n",
        "    \"\"\"\n",
        "    Generates a random dataset of customer information.\n",
        "    :param num_records: Number of records to generate\n",
        "    :return: Pandas DataFrame with customer data\n",
        "    \"\"\"\n",
        "    data = {\n",
        "        \"CustomerID\": list(range(1, num_records + 1)),\n",
        "        \"Gender\": [random.choice([\"Male\", \"Female\"]) for _ in range(num_records)],\n",
        "        \"Age\": [random.randint(18, 65) for _ in range(num_records)],\n",
        "        \"AnnualIncome\": [random.randint(20000, 120000) for _ in range(num_records)],\n",
        "    }\n",
        "    return pd.DataFrame(data)\n",
        "\n",
        "# Function to check for gender bias\n",
        "def check_gender_bias(dataset):\n",
        "    \"\"\"\n",
        "    Checks for gender bias in the dataset.\n",
        "    :param dataset: Pandas DataFrame containing customer data\n",
        "    \"\"\"\n",
        "    # Gender distribution\n",
        "    gender_counts = dataset[\"Gender\"].value_counts()\n",
        "    total_records = len(dataset)\n",
        "    print(\"Gender Distribution:\")\n",
        "    print(gender_counts)\n",
        "\n",
        "    # Calculate percentages\n",
        "    male_percentage = (gender_counts.get(\"Male\", 0) / total_records) * 100\n",
        "    female_percentage = (gender_counts.get(\"Female\", 0) / total_records) * 100\n",
        "\n",
        "    print(f\"\\nPercentage of Males: {male_percentage:.2f}%\")\n",
        "    print(f\"Percentage of Females: {female_percentage:.2f}%\")\n",
        "\n",
        "    # Check for significant imbalance\n",
        "    if abs(male_percentage - female_percentage) > 20:\n",
        "        print(\"\\nSignificant gender imbalance detected!\")\n",
        "    else:\n",
        "        print(\"\\nThe gender distribution is balanced.\")\n",
        "\n",
        "# Generate the dataset\n",
        "customer_data = generate_dataset()\n",
        "\n",
        "# Check for gender bias\n",
        "check_gender_bias(customer_data)\n",
        "\n"
      ]
    }
  ]
}