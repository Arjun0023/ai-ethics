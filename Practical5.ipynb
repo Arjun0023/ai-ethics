{
  "nbformat": 4,
  "nbformat_minor": 0,
  "metadata": {
    "colab": {
      "provenance": []
    },
    "kernelspec": {
      "name": "python3",
      "display_name": "Python 3"
    },
    "language_info": {
      "name": "python"
    }
  },
  "cells": [
    {
      "cell_type": "code",
      "execution_count": 1,
      "metadata": {
        "colab": {
          "base_uri": "https://localhost:8080/"
        },
        "id": "DS31yob2ddCz",
        "outputId": "7d53f071-04f0-4b9f-97a9-81d6aaaa75dc"
      },
      "outputs": [
        {
          "output_type": "stream",
          "name": "stdout",
          "text": [
            "Class 0 count: 4\n",
            "Class 1 count: 7\n",
            "Class imbalance: More instances of Class 1\n"
          ]
        }
      ],
      "source": [
        "# Practical 5 Checking for Data Imbalance Problem Statement:\n",
        "\n",
        "\n",
        "def check_class_imbalance(labels):\n",
        "    # Count occurrences of each class\n",
        "    class_0_count = labels.count(0)\n",
        "    class_1_count = labels.count(1)\n",
        "    print(f\"Class 0 count: {class_0_count}\")\n",
        "    print(f\"Class 1 count: {class_1_count}\")\n",
        "\n",
        "    if class_0_count > class_1_count:\n",
        "        print(\"Class imbalance: More instances of Class 0\")\n",
        "    elif class_1_count > class_0_count:\n",
        "        print(\"Class imbalance: More instances of Class 1\")\n",
        "    else:\n",
        "        print(\"Class is balanced\")\n",
        "\n",
        "if __name__ == \"__main__\":\n",
        "    labels = [0, 1, 1, 0, 1, 1, 0, 0, 1, 1, 1]\n",
        "    check_class_imbalance(labels)"
      ]
    }
  ]
}