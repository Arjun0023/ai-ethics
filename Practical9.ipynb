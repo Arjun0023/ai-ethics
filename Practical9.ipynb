{
  "nbformat": 4,
  "nbformat_minor": 0,
  "metadata": {
    "colab": {
      "provenance": []
    },
    "kernelspec": {
      "name": "python3",
      "display_name": "Python 3"
    },
    "language_info": {
      "name": "python"
    }
  },
  "cells": [
    {
      "cell_type": "code",
      "execution_count": 1,
      "metadata": {
        "colab": {
          "base_uri": "https://localhost:8080/"
        },
        "id": "p15yt_hDnj93",
        "outputId": "12e6e2ab-c047-4743-bde2-454501492d36"
      },
      "outputs": [
        {
          "output_type": "stream",
          "name": "stdout",
          "text": [
            "Starting system monitoring...\n",
            "System operating normally. Current load: 0.05\n",
            "System operating normally. Current load: 0.20\n",
            "System operating normally. Current load: 0.25\n",
            "System operating normally. Current load: 0.79\n",
            "System operating normally. Current load: 0.27\n",
            "System operating normally. Current load: 0.56\n",
            "System operating normally. Current load: 0.23\n",
            "ALERT: Fail-safe triggered! Current load: 0.90 exceeds threshold: 0.80\n",
            "System operating normally. Current load: 0.30\n",
            "ALERT: Fail-safe triggered! Current load: 0.90 exceeds threshold: 0.80\n"
          ]
        }
      ],
      "source": [
        "#Practical 9 :- Implementing Fail-Safe Mechanism\n",
        "\n",
        "import logging\n",
        "import random\n",
        "import time\n",
        "\n",
        "# Set up logging\n",
        "logging.basicConfig(\n",
        "    level=logging.INFO,\n",
        "    format='%(asctime)s - %(message)s',\n",
        "    filename='system_log.txt',\n",
        "    filemode='a'  # Append to the log file\n",
        ")\n",
        "\n",
        "# Define AISystem class\n",
        "class AISystem:\n",
        "    def __init__(self):\n",
        "        # Initialize load with a default value\n",
        "        self.load = 0.0\n",
        "\n",
        "    def update_load(self):\n",
        "        # Simulate load with a random value between 0 and 1\n",
        "        self.load = random.uniform(0, 1)\n",
        "        return self.load\n",
        "\n",
        "# Define the monitoring function\n",
        "def monitor_system(ai_system, threshold=0.8):\n",
        "    # Update and get the current load\n",
        "    current_load = ai_system.update_load()\n",
        "    if current_load >= threshold:\n",
        "        # Trigger fail-safe if load exceeds the threshold\n",
        "        message = f\"ALERT: Fail-safe triggered! Current load: {current_load:.2f} exceeds threshold: {threshold:.2f}\"\n",
        "        logging.info(message)\n",
        "        print(message)\n",
        "    else:\n",
        "        # Log normal operation status\n",
        "        message = f\"System operating normally. Current load: {current_load:.2f}\"\n",
        "        logging.info(message)\n",
        "        print(message)\n",
        "\n",
        "# Main script\n",
        "if __name__ == \"__main__\":\n",
        "    # Instantiate AISystem\n",
        "    ai_system = AISystem()\n",
        "\n",
        "    # Run monitoring in a loop\n",
        "    print(\"Starting system monitoring...\")\n",
        "    try:\n",
        "        for _ in range(10):  # Example: run monitoring 10 times\n",
        "            monitor_system(ai_system, threshold=0.8)\n",
        "            time.sleep(2)  # Delay for 2 seconds between checks\n",
        "    except KeyboardInterrupt:\n",
        "        print(\"Monitoring stopped by user.\")"
      ]
    },
    {
      "cell_type": "code",
      "source": [
        "import logging\n",
        "import random\n",
        "import time\n",
        "\n",
        "# Step 1: Set up Logging\n",
        "logging.basicConfig(\n",
        "    filename='system_log.txt',  # Log file to save entries\n",
        "    level=logging.INFO,         # Set log level to INFO\n",
        "    format='%(asctime)s - %(levelname)s - %(message)s'  # Log format with timestamp and message\n",
        ")\n",
        "\n",
        "# Step 2: Define the AISystem Class\n",
        "class AISystem:\n",
        "    def __init__(self):\n",
        "        self.load = 0.0  # Initial load level set to 0.0\n",
        "\n",
        "    def update_load(self):\n",
        "        # Update load to a random value between 0 (idle) and 1 (max load)\n",
        "        self.load = random.uniform(0, 1)\n",
        "        return self.load\n",
        "\n",
        "# Step 3: Define the monitor_system Function\n",
        "def monitor_system(ai_system, threshold=0.8):\n",
        "    current_load = ai_system.update_load()  # Get the current load level\n",
        "\n",
        "    # Check if the current load meets or exceeds the threshold\n",
        "    if current_load >= threshold:\n",
        "        message = f\"Fail-safe triggered! System load: {current_load:.2f}\"\n",
        "        logging.critical(message)  # Log a CRITICAL level message\n",
        "        print(message)\n",
        "    else:\n",
        "        message = f\"System operating normally. Load: {current_load:.2f}\"\n",
        "        logging.info(message)  # Log an INFO level message\n",
        "        print(message)\n",
        "\n",
        "# Step 4: Instantiate AISystem and Run Monitoring\n",
        "ai_system = AISystem()\n",
        "# Use a loop to repeatedly monitor the system load\n",
        "for _ in range(5):  # Adjust the range to control the number of checks\n",
        "    monitor_system(ai_system)  # Pass the AISystem instance to monitor_system\n",
        "    time.sleep(2)  # Delay between checks to simulate real-time monitoring\n"
      ],
      "metadata": {
        "colab": {
          "base_uri": "https://localhost:8080/"
        },
        "id": "KFP-6ugJoETI",
        "outputId": "1420084c-91ea-4712-ebb3-7cf6d7d005ff"
      },
      "execution_count": 2,
      "outputs": [
        {
          "output_type": "stream",
          "name": "stderr",
          "text": [
            "CRITICAL:root:Fail-safe triggered! System load: 0.92\n"
          ]
        },
        {
          "output_type": "stream",
          "name": "stdout",
          "text": [
            "Fail-safe triggered! System load: 0.92\n",
            "System operating normally. Load: 0.61\n",
            "System operating normally. Load: 0.74\n",
            "System operating normally. Load: 0.77\n",
            "System operating normally. Load: 0.30\n"
          ]
        }
      ]
    }
  ]
}