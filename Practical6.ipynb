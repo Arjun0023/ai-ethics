{
  "nbformat": 4,
  "nbformat_minor": 0,
  "metadata": {
    "colab": {
      "provenance": []
    },
    "kernelspec": {
      "name": "python3",
      "display_name": "Python 3"
    },
    "language_info": {
      "name": "python"
    }
  },
  "cells": [
    {
      "cell_type": "code",
      "execution_count": 1,
      "metadata": {
        "colab": {
          "base_uri": "https://localhost:8080/"
        },
        "id": "sdTvovBgenf8",
        "outputId": "b996cf74-6cf6-4805-825d-e92d461dc5ea"
      },
      "outputs": [
        {
          "output_type": "stream",
          "name": "stdout",
          "text": [
            "        Name       Email  Age\n",
            "0  Name_anon  Email_anon   25\n",
            "1  Name_anon  Email_anon   32\n",
            "2  Name_anon  Email_anon   45\n"
          ]
        }
      ],
      "source": [
        "#Practical 6:- Ensuring Data Privacy\n",
        "\n",
        "import pandas as pd\n",
        "\n",
        "def anonymize_data(df, pii_columns, method=\"mask\"):\n",
        "    df_anonymized = df.copy()\n",
        "    if method == \"remove\":\n",
        "        # Remove PII columns\n",
        "        df_anonymized.drop(columns=pii_columns, inplace=True)\n",
        "    elif method == \"mask\":\n",
        "        # Mask PII columns by replacing values\n",
        "        for column in pii_columns:\n",
        "            if column in df_anonymized.columns:\n",
        "                # Replace each value with a placeholder\n",
        "                df_anonymized[column] = df_anonymized[column].apply(lambda x: f\"{column}_anon\")\n",
        "            else:\n",
        "                raise ValueError(f\"Column '{column}' not found in the DataFrame\")\n",
        "    else:\n",
        "        raise ValueError(\"Method must be either 'remove' or 'mask'\")\n",
        "    return df_anonymized\n",
        "\n",
        "# Sample DataFrame\n",
        "data = {\n",
        "    \"Name\": [\"Alice Smith\", \"Bob Brown\", \"Charlie Davis\"],\n",
        "    \"Email\": [\"alice@example.com\", \"bob@example.com\", \"charlie@example.com\"],\n",
        "    \"Age\": [25, 32, 45]\n",
        "}\n",
        "\n",
        "# Convert to DataFrame\n",
        "df = pd.DataFrame(data)\n",
        "\n",
        "# Anonymize the data\n",
        "pii_columns = [\"Name\", \"Email\"]\n",
        "anonymized_df = anonymize_data(df, pii_columns, method=\"mask\")\n",
        "\n",
        "# Display the anonymized dataset\n",
        "print(anonymized_df)\n"
      ]
    }
  ]
}