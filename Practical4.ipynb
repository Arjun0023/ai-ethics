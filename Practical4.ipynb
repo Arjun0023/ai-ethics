{
  "nbformat": 4,
  "nbformat_minor": 0,
  "metadata": {
    "colab": {
      "provenance": []
    },
    "kernelspec": {
      "name": "python3",
      "display_name": "Python 3"
    },
    "language_info": {
      "name": "python"
    }
  },
  "cells": [
    {
      "cell_type": "code",
      "execution_count": 2,
      "metadata": {
        "colab": {
          "base_uri": "https://localhost:8080/"
        },
        "id": "KFybRiPdbiHh",
        "outputId": "faa47bbc-7d81-4a2f-f079-602dd0bfcec0"
      },
      "outputs": [
        {
          "output_type": "stream",
          "name": "stdout",
          "text": [
            "Accuracy without bias: 1.0\n",
            "Accuracy with bias: 1.0\n"
          ]
        }
      ],
      "source": [
        "# Practical 4 :- Classification of a dataset from UCI repository using a perceptron with and without bias.\n",
        "\n",
        "import numpy as np\n",
        "import pandas as pd\n",
        "from sklearn.datasets import load_iris\n",
        "from sklearn.model_selection import train_test_split\n",
        "from sklearn.preprocessing import StandardScaler\n",
        "from sklearn.metrics import accuracy_score\n",
        "\n",
        "# Load the Iris dataset\n",
        "iris = load_iris()\n",
        "X = iris.data\n",
        "y = iris.target\n",
        "\n",
        "# Binary classification: Only select class 0 and class 1 (ignore class 2)\n",
        "X = X[y != 2]\n",
        "y = y[y != 2]\n",
        "\n",
        "# Split the dataset into training and test sets (80% train, 20% test)\n",
        "X_train, X_test, y_train, y_test = train_test_split(X, y, test_size=0.2, random_state=42)\n",
        "\n",
        "# Standardize the features\n",
        "scaler = StandardScaler()\n",
        "X_train = scaler.fit_transform(X_train)\n",
        "X_test = scaler.transform(X_test)\n",
        "\n",
        "# Define Perceptron model\n",
        "class Perceptron:\n",
        "    def __init__(self, learning_rate=0.01, n_iters=1000, include_bias=True):\n",
        "        self.lr = learning_rate\n",
        "        self.n_iters = n_iters\n",
        "        self.include_bias = include_bias\n",
        "        self.weights = None\n",
        "        self.bias = None\n",
        "\n",
        "    def fit(self, X, y):\n",
        "        n_samples, n_features = X.shape\n",
        "        self.weights = np.zeros(n_features)\n",
        "        self.bias = 0 if self.include_bias else None\n",
        "\n",
        "        # Convert labels to {0, 1}\n",
        "        y_ = np.where(y <= 0, 0, 1)\n",
        "\n",
        "        # Training loop\n",
        "        for _ in range(self.n_iters):\n",
        "            for idx, x_i in enumerate(X):\n",
        "                linear_output = np.dot(x_i, self.weights) + (self.bias if self.include_bias else 0)\n",
        "                y_predicted = self._activation_function(linear_output)\n",
        "\n",
        "                # Perceptron update rule\n",
        "                update = self.lr * (y_[idx] - y_predicted)\n",
        "                self.weights += update * x_i\n",
        "                if self.include_bias:\n",
        "                    self.bias += update\n",
        "\n",
        "    def predict(self, X):\n",
        "        linear_output = np.dot(X, self.weights) + (self.bias if self.include_bias else 0)\n",
        "        y_predicted = self._activation_function(linear_output)\n",
        "        return y_predicted\n",
        "\n",
        "    def _activation_function(self, x):\n",
        "        return np.where(x >= 0, 1, 0)\n",
        "\n",
        "\n",
        "# Train the perceptron without bias\n",
        "perceptron_no_bias = Perceptron(learning_rate=0.01, n_iters=1000, include_bias=False)\n",
        "perceptron_no_bias.fit(X_train, y_train)\n",
        "\n",
        "# Predictions and accuracy for perceptron without bias\n",
        "y_pred_no_bias = perceptron_no_bias.predict(X_test)\n",
        "accuracy_no_bias = accuracy_score(y_test, y_pred_no_bias)\n",
        "print(f\"Accuracy without bias: {accuracy_no_bias}\")\n",
        "\n",
        "# Train the perceptron with bias\n",
        "perceptron_with_bias = Perceptron(learning_rate=0.01, n_iters=1000, include_bias=True)\n",
        "perceptron_with_bias.fit(X_train, y_train)\n",
        "\n",
        "# Predictions and accuracy for perceptron with bias\n",
        "y_pred_with_bias = perceptron_with_bias.predict(X_test)\n",
        "accuracy_with_bias = accuracy_score(y_test, y_pred_with_bias)\n",
        "print(f\"Accuracy with bias: {accuracy_with_bias}\")\n"
      ]
    },
    {
      "cell_type": "code",
      "source": [],
      "metadata": {
        "id": "2XeLeoNZco0a"
      },
      "execution_count": null,
      "outputs": []
    }
  ]
}