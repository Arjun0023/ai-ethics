{
 "cells": [
  {
   "cell_type": "code",
   "execution_count": null,
   "metadata": {
    "colab": {
     "base_uri": "https://localhost:8080/"
    },
    "id": "8SUGXcOYpK0l",
    "outputId": "5d0ab4ea-8cc4-493a-9ec3-c5d4b1c097f7"
   },
   "outputs": [
    {
     "name": "stdout",
     "output_type": "stream",
     "text": [
      "Collecting fairlearn\n",
      "  Downloading fairlearn-0.11.0-py3-none-any.whl.metadata (7.0 kB)\n",
      "Requirement already satisfied: scikit-learn in /usr/local/lib/python3.10/dist-packages (1.5.2)\n",
      "Requirement already satisfied: numpy in /usr/local/lib/python3.10/dist-packages (1.26.4)\n",
      "Requirement already satisfied: pandas>=2.0.3 in /usr/local/lib/python3.10/dist-packages (from fairlearn) (2.2.2)\n",
      "Requirement already satisfied: scipy>=1.9.3 in /usr/local/lib/python3.10/dist-packages (from fairlearn) (1.13.1)\n",
      "Requirement already satisfied: joblib>=1.2.0 in /usr/local/lib/python3.10/dist-packages (from scikit-learn) (1.4.2)\n",
      "Requirement already satisfied: threadpoolctl>=3.1.0 in /usr/local/lib/python3.10/dist-packages (from scikit-learn) (3.5.0)\n",
      "Requirement already satisfied: python-dateutil>=2.8.2 in /usr/local/lib/python3.10/dist-packages (from pandas>=2.0.3->fairlearn) (2.8.2)\n",
      "Requirement already satisfied: pytz>=2020.1 in /usr/local/lib/python3.10/dist-packages (from pandas>=2.0.3->fairlearn) (2024.2)\n",
      "Requirement already satisfied: tzdata>=2022.7 in /usr/local/lib/python3.10/dist-packages (from pandas>=2.0.3->fairlearn) (2024.2)\n",
      "Requirement already satisfied: six>=1.5 in /usr/local/lib/python3.10/dist-packages (from python-dateutil>=2.8.2->pandas>=2.0.3->fairlearn) (1.16.0)\n",
      "Downloading fairlearn-0.11.0-py3-none-any.whl (232 kB)\n",
      "\u001b[2K   \u001b[90m━━━━━━━━━━━━━━━━━━━━━━━━━━━━━━━━━━━━━━━━\u001b[0m \u001b[32m232.3/232.3 kB\u001b[0m \u001b[31m3.8 MB/s\u001b[0m eta \u001b[36m0:00:00\u001b[0m\n",
      "\u001b[?25hInstalling collected packages: fairlearn\n",
      "Successfully installed fairlearn-0.11.0\n",
      "Original Model Accuracy: 0.96\n",
      "Original Selection Rates by Group:\n",
      "sensitive_feature_0\n",
      "Female    0.545455\n",
      "Male      0.510526\n",
      "Name: selection_rate, dtype: float64\n",
      "Fair Model Accuracy: 0.86\n",
      "Fair Model Selection Rates by Group:\n",
      "sensitive_feature_0\n",
      "Female    0.563636\n",
      "Male      0.468421\n",
      "Name: selection_rate, dtype: float64\n"
     ]
    }
   ],
   "source": [
    "#Practical 10:- Program to solve AI fairness issue\n",
    "\n",
    "#!pip install fairlearn scikit-learn numpy\n",
    "\n",
    "# Step 1: Import necessary libraries\n",
    "import numpy as np\n",
    "from sklearn.datasets import make_classification\n",
    "from sklearn.model_selection import train_test_split\n",
    "from sklearn.ensemble import RandomForestClassifier\n",
    "from sklearn.linear_model import LogisticRegression\n",
    "from sklearn.metrics import accuracy_score\n",
    "from fairlearn.reductions import ExponentiatedGradient, DemographicParity\n",
    "from fairlearn.metrics import MetricFrame, selection_rate\n",
    "\n",
    "# Step 2: Create a synthetic dataset with bias\n",
    "X, y = make_classification(\n",
    "    n_samples=1000,\n",
    "    n_features=5,\n",
    "    n_informative=3,\n",
    "    n_redundant=0,\n",
    "    random_state=42\n",
    ")\n",
    "sensitive_feature = np.random.choice([\"Male\", \"Female\"], size=1000, p=[0.6, 0.4])\n",
    "\n",
    "# Step 3: Split the dataset into training and test sets\n",
    "X_train, X_test, y_train, y_test, sensitive_train, sensitive_test = train_test_split(\n",
    "    X, y, sensitive_feature, test_size=0.3, random_state=42\n",
    ")\n",
    "\n",
    "# Step 4: Train an unconstrained (original) model\n",
    "model = RandomForestClassifier(random_state=42)\n",
    "model.fit(X_train, y_train)\n",
    "y_pred = model.predict(X_test)\n",
    "accuracy = accuracy_score(y_test, y_pred)\n",
    "print(f\"Original Model Accuracy: {accuracy:.2f}\")\n",
    "\n",
    "# Step 5: Calculate fairness metrics\n",
    "metric_frame = MetricFrame(\n",
    "    metrics=selection_rate,\n",
    "    y_true=y_test,\n",
    "    y_pred=y_pred,\n",
    "    sensitive_features=sensitive_test\n",
    ")\n",
    "print(\"Original Selection Rates by Group:\")\n",
    "print(metric_frame.by_group)\n",
    "\n",
    "# Step 6: Apply ExponentiatedGradient with DemographicParity\n",
    "fair_model = LogisticRegression(solver=\"liblinear\")\n",
    "constraint = DemographicParity()\n",
    "mitigator = ExponentiatedGradient(estimator=fair_model, constraints=constraint)\n",
    "\n",
    "# Train the fair model\n",
    "mitigator.fit(X_train, y_train, sensitive_features=sensitive_train)\n",
    "y_pred_fair = mitigator.predict(X_test)\n",
    "\n",
    "# Step 7: Evaluate the fair model\n",
    "accuracy_fair = accuracy_score(y_test, y_pred_fair)\n",
    "print(f\"Fair Model Accuracy: {accuracy_fair:.2f}\")\n",
    "\n",
    "# Step 8: Recalculate fairness metrics\n",
    "metric_frame_fair = MetricFrame(\n",
    "    metrics=selection_rate,\n",
    "    y_true=y_test,\n",
    "    y_pred=y_pred_fair,\n",
    "    sensitive_features=sensitive_test\n",
    ")\n",
    "print(\"Fair Model Selection Rates by Group:\")\n",
    "print(metric_frame_fair.by_group)"
   ]
  }
 ],
 "metadata": {
  "colab": {
   "provenance": []
  },
  "kernelspec": {
   "display_name": "Python 3",
   "name": "python3"
  },
  "language_info": {
   "name": "python"
  }
 },
 "nbformat": 4,
 "nbformat_minor": 0
}
